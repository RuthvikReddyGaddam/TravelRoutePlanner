{
 "cells": [
  {
   "cell_type": "markdown",
   "metadata": {},
   "source": [
    "1. dataset to get city names, lat and long\n",
    "\n",
    "2. create the graph with cities as vertices \n",
    "\n",
    "3. specify how they are connected\n",
    "\n",
    "4. find distance:\n",
    "\n",
    "    - search if cities are there in the dataset to get coordinates\n",
    "\n",
    "    - get lat and long of cities to find distance between them \n",
    "\n",
    "5. apply DFS, dijkstra, TSP algorithms\n",
    "\n",
    "\n",
    "\n"
   ]
  },
  {
   "cell_type": "code",
   "execution_count": 29,
   "metadata": {},
   "outputs": [],
   "source": [
    "import pandas as pd \n",
    "from geopy import distance \n",
    "import sys"
   ]
  },
  {
   "cell_type": "code",
   "execution_count": 30,
   "metadata": {},
   "outputs": [
    {
     "data": {
      "text/html": [
       "<div>\n",
       "<style scoped>\n",
       "    .dataframe tbody tr th:only-of-type {\n",
       "        vertical-align: middle;\n",
       "    }\n",
       "\n",
       "    .dataframe tbody tr th {\n",
       "        vertical-align: top;\n",
       "    }\n",
       "\n",
       "    .dataframe thead th {\n",
       "        text-align: right;\n",
       "    }\n",
       "</style>\n",
       "<table border=\"1\" class=\"dataframe\">\n",
       "  <thead>\n",
       "    <tr style=\"text-align: right;\">\n",
       "      <th></th>\n",
       "      <th>City</th>\n",
       "      <th>Lat</th>\n",
       "      <th>Long</th>\n",
       "      <th>country</th>\n",
       "      <th>iso2</th>\n",
       "      <th>State</th>\n",
       "    </tr>\n",
       "  </thead>\n",
       "  <tbody>\n",
       "    <tr>\n",
       "      <th>0</th>\n",
       "      <td>Abohar</td>\n",
       "      <td>30.144533</td>\n",
       "      <td>74.195520</td>\n",
       "      <td>India</td>\n",
       "      <td>IN</td>\n",
       "      <td>Punjab</td>\n",
       "    </tr>\n",
       "    <tr>\n",
       "      <th>1</th>\n",
       "      <td>Adilabad</td>\n",
       "      <td>19.400000</td>\n",
       "      <td>78.310000</td>\n",
       "      <td>India</td>\n",
       "      <td>IN</td>\n",
       "      <td>Telangana</td>\n",
       "    </tr>\n",
       "    <tr>\n",
       "      <th>2</th>\n",
       "      <td>Agartala</td>\n",
       "      <td>23.836049</td>\n",
       "      <td>91.279386</td>\n",
       "      <td>India</td>\n",
       "      <td>IN</td>\n",
       "      <td>Tripura</td>\n",
       "    </tr>\n",
       "    <tr>\n",
       "      <th>3</th>\n",
       "      <td>Agra</td>\n",
       "      <td>27.187935</td>\n",
       "      <td>78.003944</td>\n",
       "      <td>India</td>\n",
       "      <td>IN</td>\n",
       "      <td>Uttar Pradesh</td>\n",
       "    </tr>\n",
       "    <tr>\n",
       "      <th>4</th>\n",
       "      <td>Ahmadnagar</td>\n",
       "      <td>19.094571</td>\n",
       "      <td>74.738432</td>\n",
       "      <td>India</td>\n",
       "      <td>IN</td>\n",
       "      <td>Maharashtra</td>\n",
       "    </tr>\n",
       "  </tbody>\n",
       "</table>\n",
       "</div>"
      ],
      "text/plain": [
       "         City        Lat       Long country iso2          State\n",
       "0      Abohar  30.144533  74.195520   India   IN         Punjab\n",
       "1    Adilabad  19.400000  78.310000   India   IN      Telangana\n",
       "2    Agartala  23.836049  91.279386   India   IN        Tripura\n",
       "3        Agra  27.187935  78.003944   India   IN  Uttar Pradesh\n",
       "4  Ahmadnagar  19.094571  74.738432   India   IN    Maharashtra"
      ]
     },
     "execution_count": 30,
     "metadata": {},
     "output_type": "execute_result"
    }
   ],
   "source": [
    "df = pd.read_csv(\"Indian Cities Database.csv\")\n",
    "df.head()"
   ]
  },
  {
   "cell_type": "code",
   "execution_count": 31,
   "metadata": {},
   "outputs": [
    {
     "data": {
      "text/html": [
       "<div>\n",
       "<style scoped>\n",
       "    .dataframe tbody tr th:only-of-type {\n",
       "        vertical-align: middle;\n",
       "    }\n",
       "\n",
       "    .dataframe tbody tr th {\n",
       "        vertical-align: top;\n",
       "    }\n",
       "\n",
       "    .dataframe thead th {\n",
       "        text-align: right;\n",
       "    }\n",
       "</style>\n",
       "<table border=\"1\" class=\"dataframe\">\n",
       "  <thead>\n",
       "    <tr style=\"text-align: right;\">\n",
       "      <th></th>\n",
       "      <th>City</th>\n",
       "      <th>Lat</th>\n",
       "      <th>Long</th>\n",
       "    </tr>\n",
       "  </thead>\n",
       "  <tbody>\n",
       "    <tr>\n",
       "      <th>0</th>\n",
       "      <td>Abohar</td>\n",
       "      <td>30.144533</td>\n",
       "      <td>74.195520</td>\n",
       "    </tr>\n",
       "    <tr>\n",
       "      <th>1</th>\n",
       "      <td>Adilabad</td>\n",
       "      <td>19.400000</td>\n",
       "      <td>78.310000</td>\n",
       "    </tr>\n",
       "    <tr>\n",
       "      <th>2</th>\n",
       "      <td>Agartala</td>\n",
       "      <td>23.836049</td>\n",
       "      <td>91.279386</td>\n",
       "    </tr>\n",
       "    <tr>\n",
       "      <th>3</th>\n",
       "      <td>Agra</td>\n",
       "      <td>27.187935</td>\n",
       "      <td>78.003944</td>\n",
       "    </tr>\n",
       "    <tr>\n",
       "      <th>4</th>\n",
       "      <td>Ahmadnagar</td>\n",
       "      <td>19.094571</td>\n",
       "      <td>74.738432</td>\n",
       "    </tr>\n",
       "  </tbody>\n",
       "</table>\n",
       "</div>"
      ],
      "text/plain": [
       "         City        Lat       Long\n",
       "0      Abohar  30.144533  74.195520\n",
       "1    Adilabad  19.400000  78.310000\n",
       "2    Agartala  23.836049  91.279386\n",
       "3        Agra  27.187935  78.003944\n",
       "4  Ahmadnagar  19.094571  74.738432"
      ]
     },
     "execution_count": 31,
     "metadata": {},
     "output_type": "execute_result"
    }
   ],
   "source": [
    "df1 = df[[\"City\",\"Lat\", \"Long\"]]\n",
    "df1.head()"
   ]
  },
  {
   "cell_type": "code",
   "execution_count": 32,
   "metadata": {},
   "outputs": [
    {
     "name": "stdout",
     "output_type": "stream",
     "text": [
      "{'Hyderabad': 0, 'Bengaluru': 1, 'Chennai': 2, 'Delhi': 3, 'Pune': 4, 'Ahmedabad': 5}\n",
      "[['Hyderabad', 'Chennai', 'Bengaluru'], ['Bengaluru', 'Ahmedabad'], ['Chennai', 'Hyderabad'], ['Delhi', 'Pune'], ['Pune', 'Ahmedabad', 'Bengaluru', 'Chennai'], ['Ahmedabad', 'Chennai', 'Pune']]\n"
     ]
    }
   ],
   "source": [
    "city_dict = {}\n",
    "cities = []\n",
    "# city_count = int(input(\"enter the number of cities: \"))\n",
    "# for i in range(city_count):\n",
    "#     con = []\n",
    "#     input_str = input(f\"enter the name of  city {1}: \")\n",
    "#     conn_str = input(f\"enter the connections of {input_str}: \")\n",
    "#     con.append(input_str)    \n",
    "#     user_list = conn_str.split()\n",
    "#     for x in user_list: con.append(x)\n",
    "#     cities.append(con)\n",
    "\n",
    "# print(cities)\n",
    "\n",
    "cities = [[\"Hyderabad\",\"Chennai\",\"Bengaluru\"],\n",
    "[\"Bengaluru\",\"Ahmedabad\"],\n",
    "[\"Chennai\",\"Hyderabad\"],\n",
    "[\"Delhi\",\"Pune\"],\n",
    "[\"Pune\",\"Ahmedabad\",\"Bengaluru\",\"Chennai\"],\n",
    "['Ahmedabad','Chennai','Pune']\n",
    "]\n",
    "\n",
    "for i in range(len(cities)):\n",
    "    city_dict[cities[i][0]]=i\n",
    "print(city_dict)\n",
    "print(cities)"
   ]
  },
  {
   "cell_type": "code",
   "execution_count": 33,
   "metadata": {},
   "outputs": [
    {
     "name": "stdout",
     "output_type": "stream",
     "text": [
      "Adjacency List: \n",
      "[[0, 496, 513, 0, 0, 0], [0, 0, 0, 0, 0, 1231], [513, 0, 0, 0, 0, 0], [0, 0, 0, 0, 1174, 0], [0, 731, 911, 0, 0, 516], [0, 0, 1366, 0, 516, 0]]\n",
      "\n",
      "Adjacency List for TSP: \n",
      "[[0, 496, 513, 1254, 503, 875], [496, 0, 288, 1735, 731, 1231], [513, 288, 0, 1751, 911, 1366], [1254, 1735, 1751, 0, 1174, 777], [503, 731, 911, 1174, 0, 516], [875, 1231, 1366, 777, 516, 0]]\n"
     ]
    }
   ],
   "source": [
    "class graph: \n",
    "    def __init__(self,cities,city_dict):\n",
    "        self.cities = cities\n",
    "        self.city_dict=city_dict\n",
    "        self.V = len(cities)\n",
    "        self.graph = [[0 for row in range(len(cities))]\n",
    "                      for column in range(len(cities))]\n",
    "        self.TSP_graph = self.graph.copy()\n",
    "        self.graph = self.add_edges()\n",
    "        print(f'Adjacency List: \\n{self.graph}\\n')\n",
    "        \n",
    "       \n",
    "        self.TSP_graph = self.add_edges_TSP()\n",
    "        print(f'Adjacency List for TSP: \\n{self.TSP_graph}')\n",
    "\n",
    "    def add_edges(self):\n",
    "        for row in range(len(self.cities)):\n",
    "            for col in range(len(self.cities[row])):\n",
    "                \n",
    "                if(self.city_dict[self.cities[row][0]]!=self.city_dict[self.cities[row][col]]):\n",
    "                    s=self.city_dict[self.cities[row][0]]\n",
    "                    d=self.city_dict[self.cities[row][col]]\n",
    "                    check = df1[df1[\"City\"].isin([self.cities[row][0],self.cities[row][col]])].reset_index()\n",
    "\n",
    "                    dis = distance.distance((check.loc[0, \"Lat\"], check.loc[0, \"Long\"]), (check.loc[1, \"Lat\"], check.loc[1, \"Long\"]))\n",
    "                    self.graph[s][d] = int(dis.km)\n",
    "        return(self.graph)\n",
    "        \n",
    "               \n",
    "    def add_edges_TSP(self):\n",
    "               \n",
    "        city_list = [self.cities[i][0] for i in range(len(self.cities))]\n",
    "        \n",
    "        \n",
    "        for row in range(len(city_list)):\n",
    "            for col in range(len(city_list)):\n",
    "                \n",
    "                if(row==col):\n",
    "                    continue\n",
    "                else:\n",
    "                    coord = df1[df1[\"City\"].isin([city_list[row],city_list[col]])].reset_index()\n",
    "                    dis = distance.distance((coord.loc[0, \"Lat\"], coord.loc[0, \"Long\"]), (coord.loc[1, \"Lat\"], coord.loc[1, \"Long\"]))\n",
    "                    self.TSP_graph[row][col] = int(dis.km)\n",
    "        return(self.TSP_graph)\n",
    "\n",
    "    def printSolution(self, dist):\n",
    "        print(\"Vertex \\tDistance from Source\")\n",
    "        for node in range(self.V):\n",
    "            print(node, \"\\t\", dist[node])\n",
    " \n",
    "    \n",
    "    def minDistance(self, dist, sptSet):\n",
    " \n",
    "        min = sys.maxsize\n",
    " \n",
    "        for u in range(self.V):\n",
    "            if dist[u] < min and sptSet[u] == False:\n",
    "                min = dist[u]\n",
    "                min_index = u\n",
    " \n",
    "        return min_index\n",
    " \n",
    "   \n",
    "    def dijkstra(self, src):\n",
    " \n",
    "        dist = [sys.maxsize] * self.V\n",
    "        dist[src] = 0\n",
    "        sptSet = [False] * self.V\n",
    " \n",
    "        for cout in range(self.V):\n",
    " \n",
    "           \n",
    "            x = self.minDistance(dist, sptSet)\n",
    " \n",
    "           \n",
    "            sptSet[x] = True\n",
    " \n",
    "            for y in range(self.V):\n",
    "                if self.graph[x][y] > 0 and sptSet[y] == False and dist[y] > dist[x] + self.graph[x][y]:\n",
    "                    dist[y] = dist[x] + self.graph[x][y]\n",
    "                    \n",
    " \n",
    "        self.printSolution(dist)\n",
    "        \n",
    "g = graph(cities,city_dict)\n"
   ]
  },
  {
   "cell_type": "code",
   "execution_count": 34,
   "metadata": {},
   "outputs": [
    {
     "name": "stdout",
     "output_type": "stream",
     "text": [
      "{'Hyderabad': ['Chennai', 'Bengaluru'], 'Bengaluru': ['Ahmedabad'], 'Chennai': ['Hyderabad'], 'Delhi': ['Pune'], 'Pune': ['Ahmedabad', 'Bengaluru', 'Chennai'], 'Ahmedabad': ['Chennai', 'Pune']}\n",
      "-----------------------------------\n",
      "Depth first traversal from Hyderabad\n",
      "-->Hyderabad-->Chennai-->Bengaluru-->Ahmedabad-->Pune\n",
      "-----------------------------------\n",
      "Depth first traversal from Bengaluru\n",
      "-->Bengaluru-->Ahmedabad-->Chennai-->Hyderabad-->Pune\n",
      "-----------------------------------\n",
      "Depth first traversal from Chennai\n",
      "-->Chennai-->Hyderabad-->Bengaluru-->Ahmedabad-->Pune\n",
      "-----------------------------------\n",
      "Depth first traversal from Delhi\n",
      "-->Delhi-->Pune-->Ahmedabad-->Chennai-->Hyderabad-->Bengaluru\n",
      "-----------------------------------\n",
      "Depth first traversal from Pune\n",
      "-->Pune-->Ahmedabad-->Chennai-->Hyderabad-->Bengaluru\n",
      "-----------------------------------\n",
      "Depth first traversal from Ahmedabad\n",
      "-->Ahmedabad-->Chennai-->Hyderabad-->Bengaluru-->Pune\n",
      "-----------------------------------\n"
     ]
    }
   ],
   "source": [
    "graph_dict = {}\n",
    "for i in range(len(cities)):\n",
    "    graph_dict[f'{cities[i][0]}'] = [cities[i][j] for j in range(1,len(cities[i]))]\n",
    "print(graph_dict)\n",
    "a=list(graph_dict.keys())\n",
    "def DFS(visited, graph_dict, root):\n",
    "    if root not in visited: \n",
    "        print(\"-->\"+root, end=\"\")\n",
    "        visited.add(root)\n",
    "        for neighbour in graph_dict[root]:\n",
    "            DFS(visited, graph_dict, neighbour)\n",
    "    else: return\n",
    "\n",
    "print('-----------------------------------')\n",
    "for i in range(len(a)):\n",
    "    print(f\"Depth first traversal from {a[i]}\")\n",
    "    visited = set()\n",
    "   \n",
    "    DFS(visited,graph_dict,a[i])\n",
    "    print('\\n-----------------------------------')"
   ]
  },
  {
   "cell_type": "code",
   "execution_count": 35,
   "metadata": {},
   "outputs": [
    {
     "name": "stdout",
     "output_type": "stream",
     "text": [
      "Vertex \tDistance from Source\n",
      "0 \t 0\n",
      "1 \t 496\n",
      "2 \t 513\n",
      "3 \t 1254\n",
      "4 \t 503\n",
      "5 \t 875\n"
     ]
    }
   ],
   "source": [
    "g.dijkstra(0)"
   ]
  },
  {
   "cell_type": "code",
   "execution_count": 36,
   "metadata": {},
   "outputs": [
    {
     "data": {
      "text/plain": [
       "{'Hyderabad': ['Chennai', 'Bengaluru'],\n",
       " 'Bengaluru': ['Ahmedabad'],\n",
       " 'Chennai': ['Hyderabad'],\n",
       " 'Delhi': ['Pune'],\n",
       " 'Pune': ['Ahmedabad', 'Bengaluru', 'Chennai'],\n",
       " 'Ahmedabad': ['Chennai', 'Pune']}"
      ]
     },
     "execution_count": 36,
     "metadata": {},
     "output_type": "execute_result"
    }
   ],
   "source": [
    "graph_dict = {}\n",
    "for i in range(len(cities)):\n",
    "    graph_dict[f'{cities[i][0]}'] = [cities[i][j] for j in range(1,len(cities[i]))]\n",
    "graph_dict"
   ]
  },
  {
   "cell_type": "code",
   "execution_count": 37,
   "metadata": {},
   "outputs": [
    {
     "name": "stdout",
     "output_type": "stream",
     "text": [
      "The shortest path to visit all cities is:\n",
      "\n",
      " --> Hyderabad --> Chennai --> Bengaluru --> Pune --> Ahmedabad --> Delhi\n",
      "\n",
      "The total cost of the least path is:  4079\n",
      "[[1, 2, 3, 4, 5], [1, 2, 3, 5, 4], [1, 2, 4, 3, 5], [1, 2, 4, 5, 3], [1, 2, 5, 3, 4], [1, 2, 5, 4, 3], [1, 3, 2, 4, 5], [1, 3, 2, 5, 4], [1, 3, 4, 2, 5], [1, 3, 4, 5, 2], [1, 3, 5, 2, 4], [1, 3, 5, 4, 2], [1, 4, 2, 3, 5], [1, 4, 2, 5, 3], [1, 4, 3, 2, 5], [1, 4, 3, 5, 2], [1, 4, 5, 2, 3], [1, 4, 5, 3, 2], [1, 5, 2, 3, 4], [1, 5, 2, 4, 3], [1, 5, 3, 2, 4], [1, 5, 3, 4, 2], [1, 5, 4, 2, 3], [1, 5, 4, 3, 2], [2, 1, 3, 4, 5], [2, 1, 3, 5, 4], [2, 1, 4, 3, 5], [2, 1, 4, 5, 3], [2, 1, 5, 3, 4], [2, 1, 5, 4, 3], [2, 3, 1, 4, 5], [2, 3, 1, 5, 4], [2, 3, 4, 1, 5], [2, 3, 4, 5, 1], [2, 3, 5, 1, 4], [2, 3, 5, 4, 1], [2, 4, 1, 3, 5], [2, 4, 1, 5, 3], [2, 4, 3, 1, 5], [2, 4, 3, 5, 1], [2, 4, 5, 1, 3], [2, 4, 5, 3, 1], [2, 5, 1, 3, 4], [2, 5, 1, 4, 3], [2, 5, 3, 1, 4], [2, 5, 3, 4, 1], [2, 5, 4, 1, 3], [2, 5, 4, 3, 1], [3, 1, 2, 4, 5], [3, 1, 2, 5, 4], [3, 1, 4, 2, 5], [3, 1, 4, 5, 2], [3, 1, 5, 2, 4], [3, 1, 5, 4, 2], [3, 2, 1, 4, 5], [3, 2, 1, 5, 4], [3, 2, 4, 1, 5], [3, 2, 4, 5, 1], [3, 2, 5, 1, 4], [3, 2, 5, 4, 1], [3, 4, 1, 2, 5], [3, 4, 1, 5, 2], [3, 4, 2, 1, 5], [3, 4, 2, 5, 1], [3, 4, 5, 1, 2], [3, 4, 5, 2, 1], [3, 5, 1, 2, 4], [3, 5, 1, 4, 2], [3, 5, 2, 1, 4], [3, 5, 2, 4, 1], [3, 5, 4, 1, 2], [3, 5, 4, 2, 1], [4, 1, 2, 3, 5], [4, 1, 2, 5, 3], [4, 1, 3, 2, 5], [4, 1, 3, 5, 2], [4, 1, 5, 2, 3], [4, 1, 5, 3, 2], [4, 2, 1, 3, 5], [4, 2, 1, 5, 3], [4, 2, 3, 1, 5], [4, 2, 3, 5, 1], [4, 2, 5, 1, 3], [4, 2, 5, 3, 1], [4, 3, 1, 2, 5], [4, 3, 1, 5, 2], [4, 3, 2, 1, 5], [4, 3, 2, 5, 1], [4, 3, 5, 1, 2], [4, 3, 5, 2, 1], [4, 5, 1, 2, 3], [4, 5, 1, 3, 2], [4, 5, 2, 1, 3], [4, 5, 2, 3, 1], [4, 5, 3, 1, 2], [4, 5, 3, 2, 1], [5, 1, 2, 3, 4], [5, 1, 2, 4, 3], [5, 1, 3, 2, 4], [5, 1, 3, 4, 2], [5, 1, 4, 2, 3], [5, 1, 4, 3, 2], [5, 2, 1, 3, 4], [5, 2, 1, 4, 3], [5, 2, 3, 1, 4], [5, 2, 3, 4, 1], [5, 2, 4, 1, 3], [5, 2, 4, 3, 1], [5, 3, 1, 2, 4], [5, 3, 1, 4, 2], [5, 3, 2, 1, 4], [5, 3, 2, 4, 1], [5, 3, 4, 1, 2], [5, 3, 4, 2, 1], [5, 4, 1, 2, 3], [5, 4, 1, 3, 2], [5, 4, 2, 1, 3], [5, 4, 2, 3, 1], [5, 4, 3, 1, 2], [5, 4, 3, 2, 1]]\n"
     ]
    }
   ],
   "source": [
    "V = len(cities)\n",
    "answer = []\n",
    "nodes = []\n",
    "temp = []\n",
    "def tsp(graph, v, currPos, n, count, cost,nodes, answer,temp):\n",
    "\n",
    "\n",
    "    if (count == n and graph[currPos][0]):\n",
    "        answer.append(cost + graph[currPos][0])\n",
    "        nodes.append(temp.copy())\n",
    "        return\n",
    "\n",
    "\n",
    "    for i in range(n):\n",
    "        if (v[i] == False and graph[currPos][i]):\n",
    "            v[i] = True\n",
    "            temp.append(i)\n",
    "            tsp(graph, v, i, n, count + 1, cost + graph[currPos][i],nodes,answer,temp)\n",
    "            temp.pop()\n",
    "            v[i] = False\n",
    "        \n",
    "#1,2,3,4,5\n",
    "n = len(cities)\n",
    "\n",
    "v = [False for i in range(n)]\n",
    "     \n",
    "v[0] = True\n",
    "\n",
    "currPos = 0\n",
    "\n",
    "tsp(g.TSP_graph, v, currPos, n, 1, 0,nodes, answer, temp)\n",
    "minpos = answer.index(min(answer))\n",
    "node_least = nodes[minpos].copy()\n",
    "node_least.insert(0,currPos)\n",
    "\n",
    "print(\"The shortest path to visit all cities is:\\n\")\n",
    "keys = list(city_dict.keys())\n",
    "for i in range(n):\n",
    "    print(\" --> \"+keys[node_least[i]], end=\"\") \n",
    "print(\"\\n\\nThe total cost of the least path is: \",min(answer))\n",
    "\n",
    "\n"
   ]
  }
 ],
 "metadata": {
  "kernelspec": {
   "display_name": "Python 3 (ipykernel)",
   "language": "python",
   "name": "python3"
  },
  "language_info": {
   "codemirror_mode": {
    "name": "ipython",
    "version": 3
   },
   "file_extension": ".py",
   "mimetype": "text/x-python",
   "name": "python",
   "nbconvert_exporter": "python",
   "pygments_lexer": "ipython3",
   "version": "3.10.5"
  },
  "vscode": {
   "interpreter": {
    "hash": "4fb1ddc16e91f0941aa662510b3079248b5a7b071e07c0f4e3abf404fd9d4dc1"
   }
  }
 },
 "nbformat": 4,
 "nbformat_minor": 2
}
